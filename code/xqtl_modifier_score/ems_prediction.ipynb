{
 "cells": [
  {
   "cell_type": "markdown",
   "id": "a1b2c3d4-e5f6-7890-1234-567890abcdef",
   "metadata": {},
   "source": [
    "# EMS Prediction\n",
    "\n",
    "**Use this notebook to score YOUR genetic variants for functional impact.** After understanding the methodology from the [EMS Training Tutorial](https://statfungen.github.io/xqtl-protocol/code/xqtl_modifier_score/ems_training.html), apply the trained model to your own variant lists.\n",
    "\n",
    "## What This Does\n",
    "- **Input**: Your variant list (format: `chr:pos:ref:alt`)\n",
    "- **Output**: Same variants with EMS functional scores (0-1 probability)\n",
    "- **Purpose**: Prioritize variants likely to affect gene expression"
   ]
  },
  {
   "cell_type": "markdown",
   "id": "b1c2d3e4-f5a6-7890-1234-567890abcdef",
   "metadata": {},
   "source": [
    "## How to Run the EMS Pipeline\n",
    "\n",
    "**Step 1: Prepare your variant file**\n",
    "```\n",
    "variant_id\n",
    "2:12345:A:T\n",
    "2:67890:G:C\n",
    "2:11111:T:A\n",
    "```\n",
    "\n",
    "**Step 2: Run the training/prediction pipeline**\n",
    "```bash\n",
    "cd ~/xqtl-protocol/code/xqtl_modifier_score/\n",
    "python model_training_model5_only.py Mic_mega_eQTL 2 \\\n",
    "  --data_config data_config.yaml \\\n",
    "  --model_config model_config.yaml\n",
    "```\n",
    "\n",
    "**Step 3: Get your results**\n",
    "- Trained model: `model_standard_subset_weighted_chr_chr2_NPR_10.joblib`\n",
    "- Predictions: `predictions_weighted_model_chr2.tsv`\n",
    "- Performance: `summary_dict_catboost_weighted_model_chr_chr2_NPR_10.pkl`"
   ]
  },
  {
   "cell_type": "markdown",
   "id": "c1d2e3f4-f5a6-7890-1234-567890abcdef",
   "metadata": {},
   "source": [
    "## What the Model Learned (from Training Documentation)\n",
    "\n",
    "**Algorithm**: Feature-weighted CatBoost classifier\n",
    "- **Performance**: 89.78% AUC, 50.5% Average Precision\n",
    "- **Training data**: 3,056 variants, 4,839 genomic features\n",
    "- **Top predictor**: Distance to transcription start site (23.58 importance)\n",
    "- **Key features**: Cell-type regulatory signals, population genetics\n",
    "\n",
    "**Feature weighting strategy**: Experimental features weighted 10x higher than computational predictions"
   ]
  },
  {
   "cell_type": "markdown",
   "id": "d1e2f3g4-f5a6-7890-1234-567890abcdef",
   "metadata": {},
   "source": [
    "## Inspect Your Results\n",
    "\n",
    "**After running the pipeline, you'll have these outputs:**"
   ]
  },
  {
   "cell_type": "code",
   "execution_count": null,
   "id": "e1f2g3h4-i5j6-7890-1234-567890abcdef",
   "metadata": {},
   "outputs": [],
   "source": [
    "import pandas as pd\n",
    "import joblib\n",
    "\n",
    "# Load your trained model (after running the pipeline)\n",
    "MODEL_PATH = \"../../data/Mic_mega_eQTL/model_results/model_standard_subset_weighted_chr_chr2_NPR_10.joblib\"\n",
    "trained_model = joblib.load(MODEL_PATH)\n",
    "\n",
    "print(f\"✅ Your trained model: {trained_model.__class__.__name__}\")\n",
    "print(f\"Features: {trained_model.feature_count_}\")\n",
    "print(f\"Classes: {list(trained_model.classes_)}\")"
   ]
  },
  {
   "cell_type": "code",
   "execution_count": null,
   "id": "f1g2h3i4-j5k6-7890-1234-567890abcdef",
   "metadata": {},
   "outputs": [],
   "source": [
    "# Load your prediction results (after running the pipeline)\n",
    "RESULTS_PATH = \"../../data/Mic_mega_eQTL/model_results/predictions_parquet_catboost/predictions_weighted_model_chr2.tsv\"\n",
    "results = pd.read_csv(RESULTS_PATH, sep='\\t')\n",
    "\n",
    "print(f\"📊 Results for {len(results)} variants\")\n",
    "print(\"\\nColumns available:\")\n",
    "for col in results.columns:\n",
    "    if 'pred' in col.lower() or 'score' in col.lower():\n",
    "        print(f\"   - {col}\")\n",
    "\n",
    "# Show example results\n",
    "print(\"\\nExample predictions:\")\n",
    "display_cols = ['variant_id', 'standard_subset_weighted_pred_prob', 'standard_subset_weighted_pred_label']\n",
    "print(results[display_cols].head())"
   ]
  },
  {
   "cell_type": "markdown",
   "id": "g1h2i3j4-k5l6-7890-1234-567890abcdef",
   "metadata": {},
   "source": [
    "## Interpret Your EMS Scores\n",
    "\n",
    "**Score meaning**: `standard_subset_weighted_pred_prob` = Probability variant affects gene expression\n",
    "\n",
    "### Priority Guidelines:\n",
    "- **High Priority (>0.8)**: Strong functional evidence, prioritize for experiments\n",
    "- **Medium Priority (0.5-0.8)**: Moderate evidence, worth investigating  \n",
    "- **Low Priority (<0.5)**: Limited functional evidence\n",
    "\n",
    "### Model Basis (from Training):\n",
    "- **Distance to gene start**: Primary predictor (closest = most likely functional)\n",
    "- **Cell-type signals**: Microglia-specific regulatory activity\n",
    "- **Population genetics**: Allele frequency and constraint data"
   ]
  },
  {
   "cell_type": "code",
   "execution_count": null,
   "id": "h1i2j3k4-l5m6-7890-1234-567890abcdef",
   "metadata": {},
   "outputs": [],
   "source": [
    "# Analyze your results\n",
    "score_col = 'standard_subset_weighted_pred_prob'\n",
    "\n",
    "print(\"🎯 YOUR RESULTS SUMMARY\")\n",
    "print(\"=\" * 30)\n",
    "print(f\"Total variants: {len(results)}\")\n",
    "print(f\"High priority (>0.8): {len(results[results[score_col] > 0.8])}\")\n",
    "print(f\"Medium priority (0.5-0.8): {len(results[(results[score_col] > 0.5) & (results[score_col] <= 0.8)])}\")\n",
    "print(f\"Low priority (<0.5): {len(results[results[score_col] <= 0.5])}\")\n",
    "\n",
    "# Show top-scoring variants\n",
    "top_variants = results.nlargest(5, score_col)\n",
    "print(\"\\n🏆 Top 5 variants:\")\n",
    "for _, row in top_variants.iterrows():\n",
    "    print(f\"   {row['variant_id']}: {row[score_col]:.4f}\")"
   ]
  },
  {
   "cell_type": "markdown",
   "id": "i1j2k3l4-m5n6-7890-1234-567890abcdef",
   "metadata": {},
   "source": [
    "## Using Results for Research\n",
    "\n",
    "### Immediate Actions:\n",
    "1. **Filter high-priority variants** (score > 0.8) for experimental validation\n",
    "2. **Cross-reference with literature** for known functional variants\n",
    "3. **Design follow-up experiments** (luciferase assays, CRISPR validation)\n",
    "\n",
    "### Export Prioritized Lists:"
   ]
  },
  {
   "cell_type": "code",
   "execution_count": null,
   "id": "j1k2l3m4-n5o6-7890-1234-567890abcdef",
   "metadata": {},
   "outputs": [],
   "source": [
    "# Export high-priority variants for follow-up\n",
    "high_priority = results[results[score_col] > 0.8]\n",
    "\n",
    "if len(high_priority) > 0:\n",
    "    output_file = \"high_priority_variants_for_validation.tsv\"\n",
    "    high_priority.to_csv(output_file, sep='\\t', index=False)\n",
    "    print(f\"📁 Saved {len(high_priority)} high-priority variants to: {output_file}\")\n",
    "    print(\"   Ready for experimental design and validation\")\nelse:\n",
    "    print(\"ℹ️  No variants with score > 0.8 found\")\n",
    "    print(\"   Consider lowering threshold or reviewing medium-priority variants\")"
   ]
  },
  {
   "cell_type": "markdown",
   "id": "k1l2m3n4-o5p6-7890-1234-567890abcdef",
   "metadata": {},
   "source": [
    "## For New Variant Lists\n",
    "\n",
    "**To score additional variants:**\n",
    "\n",
    "1. **Prepare new variant file** in same format (`chr:pos:ref:alt`)\n",
    "2. **Update data paths** in `data_config.yaml` to point to your new file\n",
    "3. **Re-run the pipeline** with same command\n",
    "4. **Get new predictions** in same output format\n",
    "\n",
    "**The trained model will automatically:**\n",
    "- Parse variant coordinates\n",
    "- Generate genomic features\n",
    "- Apply feature weighting\n",
    "- Score functional probability\n",
    "- Output results for analysis\n",
    "\n",
    "### Model Performance Expectations:\n",
    "- **Chromosome 2 variants**: Optimal performance (training data)\n",
    "- **Other chromosomes**: Good generalization expected\n",
    "- **Different populations**: May need recalibration\n",
    "- **Non-brain tissues**: Consider cell-type specificity"
   ]
  }
 ],
 "metadata": {
  "kernelspec": {
   "display_name": "Python 3 (ipykernel)",
   "language": "python",
   "name": "python3"
  },
  "language_info": {
   "codemirror_mode": {
    "name": "ipython",
    "version": 3
   },
   "file_extension": ".py",
   "mimetype": "text/x-python",
   "name": "python",
   "nbconvert_exporter": "python",
   "nbconvert_exporter": "python",
   "pygments_lexer": "ipython3",
   "version": "3.12.11"
  }
 },
 "nbformat": 4,
 "nbformat_minor": 5
}
